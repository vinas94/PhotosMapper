{
 "cells": [
  {
   "cell_type": "code",
   "execution_count": 1,
   "id": "427525a3-2293-4ec7-9108-e7796c8a116d",
   "metadata": {},
   "outputs": [],
   "source": [
    "import os\n",
    "import base64\n",
    "import exifread\n",
    "import datetime\n",
    "import polars as pl\n",
    "import plotly.express as px\n",
    "import pendulum\n",
    "from tqdm import tqdm\n",
    "from dash import Dash, dcc, html, Input, Output, State\n",
    "from dash_extensions import EventListener\n",
    "\n",
    "from jupyter_dash import JupyterDash\n",
    "import webbrowser\n",
    "import time"
   ]
  },
  {
   "cell_type": "code",
   "execution_count": 2,
   "id": "2f15526f-7202-4b28-8f8e-d3313b58a2a4",
   "metadata": {},
   "outputs": [],
   "source": [
    "def encode_image(image_path):\n",
    "    with open(image_path, \"rb\") as f:\n",
    "        encoded = base64.b64encode(f.read()).decode()\n",
    "        return f\"data:image/png;base64,{encoded}\""
   ]
  },
  {
   "cell_type": "code",
   "execution_count": 3,
   "id": "ea0d929c-da0e-4678-96e9-80ab7aa0d094",
   "metadata": {},
   "outputs": [
    {
     "data": {
      "text/html": [
       "<div><style>\n",
       ".dataframe > thead > tr,\n",
       ".dataframe > tbody > tr {\n",
       "  text-align: right;\n",
       "  white-space: pre-wrap;\n",
       "}\n",
       "</style>\n",
       "<small>shape: (3, 4)</small><table border=\"1\" class=\"dataframe\"><thead><tr><th>x</th><th>y</th><th>t</th><th>image_urls</th></tr><tr><td>i64</td><td>i64</td><td>i64</td><td>str</td></tr></thead><tbody><tr><td>1</td><td>4</td><td>7</td><td>&quot;./photos/20241004_043129.jpg&quot;</td></tr><tr><td>2</td><td>5</td><td>8</td><td>&quot;./photos/20241004_061911.jpg&quot;</td></tr><tr><td>3</td><td>4</td><td>9</td><td>&quot;./photos/PXL_20240927_21453159…</td></tr></tbody></table></div>"
      ],
      "text/plain": [
       "shape: (3, 4)\n",
       "┌─────┬─────┬─────┬─────────────────────────────────┐\n",
       "│ x   ┆ y   ┆ t   ┆ image_urls                      │\n",
       "│ --- ┆ --- ┆ --- ┆ ---                             │\n",
       "│ i64 ┆ i64 ┆ i64 ┆ str                             │\n",
       "╞═════╪═════╪═════╪═════════════════════════════════╡\n",
       "│ 1   ┆ 4   ┆ 7   ┆ ./photos/20241004_043129.jpg    │\n",
       "│ 2   ┆ 5   ┆ 8   ┆ ./photos/20241004_061911.jpg    │\n",
       "│ 3   ┆ 4   ┆ 9   ┆ ./photos/PXL_20240927_21453159… │\n",
       "└─────┴─────┴─────┴─────────────────────────────────┘"
      ]
     },
     "execution_count": 3,
     "metadata": {},
     "output_type": "execute_result"
    }
   ],
   "source": [
    "# Sample data\n",
    "df = pl.DataFrame({\n",
    "    \"x\": [1, 2, 3],\n",
    "    \"y\": [4, 5, 4],\n",
    "    \"t\": [7, 8, 9],\n",
    "    \"image_urls\": [\n",
    "        \"./photos/20241004_043129.jpg\",\n",
    "        \"./photos/20241004_061911.jpg\",\n",
    "        \"./photos/PXL_20240927_214531595.jpg\",\n",
    "    ]\n",
    "})\n",
    "\n",
    "df.head()"
   ]
  },
  {
   "cell_type": "markdown",
   "id": "c6af0159-8908-44d3-955d-b623c9354f4d",
   "metadata": {},
   "source": [
    "# Hover implementation"
   ]
  },
  {
   "cell_type": "code",
   "execution_count": 4,
   "id": "f831278a-3741-4ea9-9784-fd1449e15252",
   "metadata": {},
   "outputs": [],
   "source": [
    "app = Dash(__name__)\n",
    "\n",
    "fig = px.scatter(\n",
    "    df,\n",
    "    x=\"x\",\n",
    "    y=\"y\",\n",
    "    hover_data={\"t\": True},\n",
    "    custom_data=[\"image_urls\"],\n",
    ")\n",
    "\n",
    "fig.update_traces(hovertemplate=\"%{customdata[1]}\")\n",
    "\n",
    "# List all required components\n",
    "app.layout = html.Div([\n",
    "    dcc.Graph(id=\"figure\", figure=fig, style={\"height\": \"100vh\", \"width\": \"100vw\"}),  # dcc = Dash Core Components\n",
    "    html.Img(id=\"hover-image\"),\n",
    "])"
   ]
  },
  {
   "cell_type": "code",
   "execution_count": 5,
   "id": "03c36fb8-51df-49d4-8f84-b24f6506c1bc",
   "metadata": {},
   "outputs": [],
   "source": [
    "hover_image_style = {\n",
    "    \"position\": \"absolute\",\n",
    "    \"top\": \"50px\",\n",
    "    \"right\": \"50px\",\n",
    "    \"width\": \"200px\",\n",
    "    \"zIndex\": \"10\",\n",
    "    \"border\": \"1px solid black\",\n",
    "    \"display\": \"block\",\n",
    "}\n",
    "\n",
    "\n",
    "@app.callback(\n",
    "    Output(\"hover-image\", \"src\"),    # first output from the below function to hover-image (see app.layout)\n",
    "    Output(\"hover-image\", \"style\"),  # second output from the below function to hover-image (see app.layout)\n",
    "\n",
    "    Input(\"figure\", \"hoverData\"),    # input from the scatter-plot (see app.layout) to the below function\n",
    ")\n",
    "def display_hover_image(hoverData):\n",
    "    if hoverData:\n",
    "        image_url = hoverData[\"points\"][0][\"customdata\"][0]\n",
    "        return encode_image(image_url), hover_image_style\n",
    "    return \"\", {\"display\": \"none\"}"
   ]
  },
  {
   "cell_type": "code",
   "execution_count": 6,
   "id": "2fde055f-a830-468a-a17f-7746a232717c",
   "metadata": {},
   "outputs": [
    {
     "name": "stdout",
     "output_type": "stream",
     "text": [
      "Dash is running on http://127.0.0.1:8050/\n",
      "\n",
      " * Serving Flask app '__main__'\n",
      " * Debug mode: on\n"
     ]
    }
   ],
   "source": [
    "app.run_server(port=8050, debug=True, use_reloader=False)"
   ]
  },
  {
   "cell_type": "markdown",
   "id": "3efac515-703c-4472-985f-2bf6a97dfff3",
   "metadata": {},
   "source": [
    "# Click implementation"
   ]
  },
  {
   "cell_type": "code",
   "execution_count": 7,
   "id": "3738cad9-88fe-43ed-80f6-813a152ad943",
   "metadata": {},
   "outputs": [],
   "source": [
    "# app = Dash(__name__)\n",
    "\n",
    "# fig = px.scatter(\n",
    "#     df,\n",
    "#     x=\"x\",\n",
    "#     y=\"y\",\n",
    "#     hover_data={\"t\": True},\n",
    "#     custom_data=[\"image_urls\"],\n",
    "# )\n",
    "\n",
    "# fig.update_traces(\n",
    "#     hovertemplate=\"%{customdata[1]}\"\n",
    "# )\n",
    "\n",
    "# app.layout = html.Div([\n",
    "#     dcc.Graph(id=\"figure\", figure=fig, style={\"height\": \"100vh\", \"width\": \"100vw\"}),\n",
    "#     html.Img(id=\"click-image\", style={\"display\": \"block\"}),\n",
    "# ])"
   ]
  },
  {
   "cell_type": "code",
   "execution_count": 8,
   "id": "cd7e713a-696e-4903-aec9-cf253e4422e6",
   "metadata": {},
   "outputs": [],
   "source": [
    "# click_image_style = {\n",
    "#     \"position\": \"absolute\",\n",
    "#     \"top\": \"50%\",\n",
    "#     \"left\": \"50%\",\n",
    "#     \"transform\": \"translate(-50%, -50%)\",  # Offset by half the image dimensions to truly center it\n",
    "#     \"width\": \"200px\",\n",
    "#     \"zIndex\": \"10\",\n",
    "#     \"border\": \"1px solid black\",\n",
    "#     \"display\": \"block\",\n",
    "# }\n",
    "\n",
    "\n",
    "# @app.callback(\n",
    "#     Output(\"click-image\", \"src\"),\n",
    "#     Output(\"click-image\", \"style\"),\n",
    "#     Output(\"figure\", \"clickData\"),\n",
    "\n",
    "#     Input(\"figure\", \"clickData\"),\n",
    "#     Input(\"click-image\", \"n_clicks\"),\n",
    "#     State(\"click-image\", \"style\"),\n",
    "# )\n",
    "# def toggle_click_image(clickData, n_clicks, current_style):\n",
    "#     if n_clicks and current_style[\"display\"] == \"block\":\n",
    "#         return \"\", {\"display\": \"none\"}, None\n",
    "\n",
    "#     if clickData:\n",
    "#         image_url = clickData[\"points\"][0][\"customdata\"][0]\n",
    "#         return encode_image(image_url), click_image_style, None\n",
    "\n",
    "#     return \"\", {\"display\": \"none\"}, None"
   ]
  },
  {
   "cell_type": "code",
   "execution_count": 9,
   "id": "41d484fd-c00e-4b77-bdcf-f6b867b36f71",
   "metadata": {},
   "outputs": [],
   "source": [
    "# app.run_server(port=8050, debug=True, use_reloader=False)"
   ]
  },
  {
   "cell_type": "markdown",
   "id": "0aaefadc-949e-4175-b71b-9bd30d0edc1e",
   "metadata": {},
   "source": [
    "# Click anywhere implementation"
   ]
  },
  {
   "cell_type": "code",
   "execution_count": 7,
   "id": "32c2b22a-ce56-4ba6-abf0-74eb6e2c241c",
   "metadata": {},
   "outputs": [],
   "source": [
    "app = JupyterDash(__name__)\n",
    "\n",
    "fig = px.scatter(\n",
    "    df,\n",
    "    x=\"x\",\n",
    "    y=\"y\",\n",
    "    hover_data={\"t\": True},\n",
    "    custom_data=[\"image_urls\"],\n",
    ")\n",
    "\n",
    "fig.update_traces(hovertemplate=\"%{customdata[1]}\")\n",
    "\n",
    "event_listener_js = {\n",
    "    \"event\": \"click\",                 # Listen for click events\n",
    "    \"props\": [\"clientX\", \"clientY\"],  # Capture the click's position on the screen\n",
    "}\n",
    "\n",
    "app.layout = html.Div([\n",
    "    # Wrappers over components to listen for any clicks\n",
    "    EventListener(\n",
    "        dcc.Graph(id=\"figure\", figure=fig, style={\"height\": \"100vh\", \"width\": \"100vw\"}),\n",
    "        events=[event_listener_js],\n",
    "        id=\"figure-clicks\",\n",
    "    ),\n",
    "    EventListener(\n",
    "        html.Img(id=\"click-image\", style={\"display\": \"block\"}),\n",
    "        events=[event_listener_js],\n",
    "        id=\"click-image-clicks\",\n",
    "    ),\n",
    "])"
   ]
  },
  {
   "cell_type": "code",
   "execution_count": 8,
   "id": "6a945d9c-4275-4bce-b756-af44ff1ba38b",
   "metadata": {},
   "outputs": [],
   "source": [
    "click_image_style = {\n",
    "    \"position\": \"absolute\",\n",
    "    \"top\": \"50%\",\n",
    "    \"left\": \"50%\",\n",
    "    \"transform\": \"translate(-50%, -50%)\",  # Offset by half the image dimensions to truly center it\n",
    "    \"width\": \"200px\",\n",
    "    # \"zIndex\": \"10\",\n",
    "    \"border\": \"1px solid black\",\n",
    "    \"display\": \"block\",\n",
    "}\n",
    "\n",
    "\n",
    "@app.callback(\n",
    "    Output(\"click-image\", \"src\"),\n",
    "    Output(\"click-image\", \"style\"),\n",
    "    Output(\"figure\", \"clickData\"),\n",
    "\n",
    "    Input(\"figure\", \"clickData\"),\n",
    "    Input(\"figure-clicks\", \"event\"),\n",
    "    Input(\"click-image-clicks\", \"event\"),\n",
    ")\n",
    "def toggle_click_image(clickData, figure_clicks, click_image_clicks):\n",
    "\n",
    "    # When there's a click anywhere but on a data point\n",
    "    if (figure_clicks or click_image_clicks) and not clickData:\n",
    "        return \"\", {\"display\": \"none\"}, None\n",
    "\n",
    "    if clickData:\n",
    "        image_url = clickData[\"points\"][0][\"customdata\"][0]\n",
    "        return encode_image(image_url), click_image_style, None\n",
    "\n",
    "    return \"\", {\"display\": \"none\"}, None"
   ]
  },
  {
   "cell_type": "code",
   "execution_count": 9,
   "id": "f05ca6d8-1e71-40de-9cde-2cd13e832e87",
   "metadata": {},
   "outputs": [
    {
     "name": "stdout",
     "output_type": "stream",
     "text": [
      "Dash is running on http://127.0.0.1:8050/\n",
      "\n",
      "Dash app running on http://127.0.0.1:8050/\n",
      "Dash is running on http://127.0.0.1:8050/\n",
      "\n",
      "Dash app running on http://127.0.0.1:8050/\n"
     ]
    }
   ],
   "source": [
    "webbrowser.open('http://127.0.0.1:8050/')\n",
    "app.run_server(port=8050, debug=True, use_reloader=False)\n",
    "time.sleep(5)\n",
    "app.run_server(port=8050, debug=True, use_reloader=False)"
   ]
  },
  {
   "cell_type": "markdown",
   "id": "b9c1d366-a753-4f8a-ac52-df35d87e741a",
   "metadata": {},
   "source": [
    "# Hover & Click implementation"
   ]
  },
  {
   "cell_type": "code",
   "execution_count": 11,
   "id": "eb7c7c70-edad-411c-8246-c21c27149870",
   "metadata": {},
   "outputs": [],
   "source": [
    "app = JupyterDash(__name__)\n",
    "\n",
    "fig = px.scatter(\n",
    "    df,\n",
    "    x=\"x\",\n",
    "    y=\"y\",\n",
    "    hover_data={\"t\": True},\n",
    "    custom_data=[\"image_urls\"],\n",
    ")\n",
    "\n",
    "fig.update_traces(hovertemplate=\"%{customdata[1]}\")\n",
    "\n",
    "event_listener_js = {\n",
    "    \"event\": \"click\",                 # Listen for click events\n",
    "    \"props\": [\"clientX\", \"clientY\"],  # Capture the click's position on the screen\n",
    "}\n",
    "\n",
    "app.layout = html.Div([\n",
    "    EventListener(\n",
    "        dcc.Graph(id=\"figure\", figure=fig, style={\"height\": \"100vh\", \"width\": \"100vw\"}),\n",
    "        events=[event_listener_js],\n",
    "        id=\"figure-clicks\",\n",
    "    ),\n",
    "    html.Img(id=\"hover-image\"),\n",
    "    EventListener(\n",
    "        html.Img(id=\"click-image\", style={\"display\": \"block\"}),\n",
    "        events=[event_listener_js],\n",
    "        id=\"click-image-clicks\",\n",
    "    ),\n",
    "    dcc.Store(id=\"click-image-visible\", data=False)\n",
    "])"
   ]
  },
  {
   "cell_type": "code",
   "execution_count": 12,
   "id": "167f3824-cd7c-4fd7-81d5-121df82f924a",
   "metadata": {},
   "outputs": [],
   "source": [
    "hover_image_style = {\n",
    "    \"position\": \"absolute\",\n",
    "    \"top\": \"82px\",\n",
    "    \"right\": \"50px\",\n",
    "    \"width\": \"200px\",\n",
    "    \"zIndex\": \"10\",\n",
    "    \"border\": \"1px solid black\",\n",
    "    \"display\": \"block\",\n",
    "}\n",
    "\n",
    "\n",
    "@app.callback(\n",
    "    Output(\"hover-image\", \"src\"),        # first output from the below function to hover-image (see app.layout)\n",
    "    Output(\"hover-image\", \"style\"),      # second output from the below function to hover-image (see app.layout)\n",
    "\n",
    "    Input(\"figure\", \"hoverData\"),  # input from the scatter-plot (see app.layout) to the below function\n",
    "    Input(\"click-image-visible\", \"data\")\n",
    ")\n",
    "def display_hover_image(hoverData, click_image_visible):\n",
    "    if hoverData and not click_image_visible:\n",
    "        image_url = hoverData[\"points\"][0][\"customdata\"][0]\n",
    "        return encode_image(image_url), hover_image_style\n",
    "    return \"\", {\"display\": \"none\"}\n",
    "\n",
    "\n",
    "click_image_style = {\n",
    "    \"position\": \"absolute\",\n",
    "    \"top\": \"50%\",\n",
    "    \"left\": \"50%\",\n",
    "    \"transform\": \"translate(-50%, -50%)\",\n",
    "    \"width\": \"600px\",\n",
    "    \"zIndex\": \"10\",\n",
    "    \"border\": \"1px solid black\",\n",
    "    \"display\": \"block\",\n",
    "}\n",
    "\n",
    "\n",
    "@app.callback(\n",
    "    Output(\"click-image\", \"src\"),\n",
    "    Output(\"click-image\", \"style\"),\n",
    "    Output(\"figure\", \"clickData\"),\n",
    "    Output(\"click-image-visible\", \"data\"),\n",
    "\n",
    "    Input(\"figure\", \"clickData\"),\n",
    "    Input(\"figure-clicks\", \"event\"),\n",
    "    Input(\"click-image-clicks\", \"event\"),\n",
    ")\n",
    "def toggle_click_image(clickData, figure_clicks, click_image_clicks):\n",
    "    if (figure_clicks or click_image_clicks) and not clickData:\n",
    "        return \"\", {\"display\": \"none\"}, None, False\n",
    "\n",
    "    if clickData:\n",
    "        image_url = clickData[\"points\"][0][\"customdata\"][0]\n",
    "        return encode_image(image_url), click_image_style, None, True\n",
    "\n",
    "    return \"\", {\"display\": \"none\"}, None, False"
   ]
  },
  {
   "cell_type": "code",
   "execution_count": 13,
   "id": "3ce0a0e9-346a-4897-a3d4-e56c93a432b8",
   "metadata": {},
   "outputs": [
    {
     "name": "stdout",
     "output_type": "stream",
     "text": [
      "Dash is running on http://127.0.0.1:8050/\n",
      "\n",
      "Dash app running on http://127.0.0.1:8050/\n",
      "Dash is running on http://127.0.0.1:8050/\n",
      "\n",
      "Dash app running on http://127.0.0.1:8050/\n"
     ]
    }
   ],
   "source": [
    "webbrowser.open('http://127.0.0.1:8050/')\n",
    "app.run_server(port=8050, debug=True, use_reloader=False)\n",
    "time.sleep(5)\n",
    "app.run_server(port=8050, debug=True, use_reloader=False)"
   ]
  },
  {
   "cell_type": "code",
   "execution_count": null,
   "id": "62b452f8-a156-41fe-acee-b86182ff383d",
   "metadata": {},
   "outputs": [],
   "source": []
  },
  {
   "cell_type": "code",
   "execution_count": null,
   "id": "d80d04ab-efcf-473b-96bf-1ee781165fa0",
   "metadata": {},
   "outputs": [],
   "source": []
  },
  {
   "cell_type": "code",
   "execution_count": null,
   "id": "2aa20ba9-33bf-4f24-9e62-0a96f76fdcb2",
   "metadata": {},
   "outputs": [],
   "source": []
  },
  {
   "cell_type": "code",
   "execution_count": null,
   "id": "1895cadf-35ab-40ef-9b3b-5de882351ab2",
   "metadata": {},
   "outputs": [],
   "source": []
  },
  {
   "cell_type": "markdown",
   "id": "bb2b9fa4-c717-468e-bd5e-d7ce57e17627",
   "metadata": {},
   "source": [
    "# All photos on a map"
   ]
  },
  {
   "cell_type": "code",
   "execution_count": 14,
   "id": "3ee3d594-88d1-40be-be9b-49ef19e75ef5",
   "metadata": {},
   "outputs": [],
   "source": [
    "# Helper function to convert GPS coordinates to decimal\n",
    "def convert_to_decimal(coord, ref):\n",
    "    degrees, minutes, seconds = coord\n",
    "    decimal = degrees + (minutes / 60.0) + (seconds / 3600.0)\n",
    "    if ref in [\"S\", \"W\"]:\n",
    "        decimal = -decimal\n",
    "    return decimal"
   ]
  },
  {
   "cell_type": "code",
   "execution_count": 15,
   "id": "53b69927-056e-4fdf-a4f8-4e6ebadd39ba",
   "metadata": {},
   "outputs": [],
   "source": [
    "# Extract GPS data using exifread\n",
    "def extract_gps_data(image_path):\n",
    "    try:\n",
    "        with open(image_path, 'rb') as image_file:\n",
    "            tags = exifread.process_file(image_file, stop_tag='GPS')\n",
    "\n",
    "            timestamp = tags.get(\"Image DateTime\")\n",
    "            gps_latitude = tags.get(\"GPS GPSLatitude\")\n",
    "            gps_latitude_ref = tags.get(\"GPS GPSLatitudeRef\")\n",
    "            gps_longitude = tags.get(\"GPS GPSLongitude\")\n",
    "            gps_longitude_ref = tags.get(\"GPS GPSLongitudeRef\")\n",
    "\n",
    "            if gps_latitude and gps_latitude_ref and gps_longitude and gps_longitude_ref:\n",
    "                lat = [float(x.num) / float(x.den) for x in gps_latitude.values]\n",
    "                lon = [float(x.num) / float(x.den) for x in gps_longitude.values]\n",
    "\n",
    "                lat_decimal = convert_to_decimal(lat, gps_latitude_ref.values)\n",
    "                lon_decimal = convert_to_decimal(lon, gps_longitude_ref.values)\n",
    "\n",
    "                return timestamp.values, lat_decimal, lon_decimal\n",
    "        return timestamp.values, None, None\n",
    "    except Exception as e:\n",
    "        print(f\"Error processing {image_path}: {e}\")\n",
    "        return None, None, None"
   ]
  },
  {
   "cell_type": "code",
   "execution_count": 16,
   "id": "f4d4a98c-eac4-4545-85c8-3e99298ee417",
   "metadata": {},
   "outputs": [],
   "source": [
    "# Process all images in a directory\n",
    "def process_images(directory):\n",
    "    data = []\n",
    "    for filename in tqdm(os.listdir(directory)):\n",
    "        if filename.lower().endswith(('.jpg', '.jpeg')):\n",
    "            filepath = os.path.join(directory, filename)\n",
    "            t, lat, lon = extract_gps_data(filepath)\n",
    "            data.append({\"filename\": filepath, \"timestamp\": t, \"latitude\": lat, \"longitude\": lon})\n",
    "    return data"
   ]
  },
  {
   "cell_type": "code",
   "execution_count": 17,
   "id": "be261511-26c1-4708-ba15-ca247cdb4156",
   "metadata": {},
   "outputs": [
    {
     "name": "stderr",
     "output_type": "stream",
     "text": [
      "100%|█████████████████████████████████████| 4420/4420 [00:01<00:00, 2356.91it/s]\n"
     ]
    }
   ],
   "source": [
    "metadata = process_images('./photos/')"
   ]
  },
  {
   "cell_type": "code",
   "execution_count": 18,
   "id": "e75c1b21-a0a0-4889-a2e1-2514741f35e7",
   "metadata": {},
   "outputs": [
    {
     "data": {
      "text/html": [
       "<div><style>\n",
       ".dataframe > thead > tr,\n",
       ".dataframe > tbody > tr {\n",
       "  text-align: right;\n",
       "  white-space: pre-wrap;\n",
       "}\n",
       "</style>\n",
       "<small>shape: (5, 4)</small><table border=\"1\" class=\"dataframe\"><thead><tr><th>filename</th><th>timestamp</th><th>latitude</th><th>longitude</th></tr><tr><td>str</td><td>datetime[μs]</td><td>f64</td><td>f64</td></tr></thead><tbody><tr><td>&quot;./photos/PXL_20241015_02082151…</td><td>2024-10-14&nbsp;22:08:21</td><td>40.73645</td><td>-73.986819</td></tr><tr><td>&quot;./photos/PXL_20240930_14080630…</td><td>2024-09-30&nbsp;10:08:06</td><td>40.712542</td><td>-73.993772</td></tr><tr><td>&quot;./photos/PXL_20241014_22103181…</td><td>2024-10-14&nbsp;18:10:31</td><td>40.753172</td><td>-73.978617</td></tr><tr><td>&quot;./photos/PXL_20241016_06274948…</td><td>2024-10-16&nbsp;01:27:49</td><td>29.996244</td><td>-90.254758</td></tr><tr><td>&quot;./photos/PXL_20241017_15564377…</td><td>2024-10-17&nbsp;10:56:43</td><td>29.960689</td><td>-90.057911</td></tr></tbody></table></div>"
      ],
      "text/plain": [
       "shape: (5, 4)\n",
       "┌─────────────────────────────────┬─────────────────────┬───────────┬────────────┐\n",
       "│ filename                        ┆ timestamp           ┆ latitude  ┆ longitude  │\n",
       "│ ---                             ┆ ---                 ┆ ---       ┆ ---        │\n",
       "│ str                             ┆ datetime[μs]        ┆ f64       ┆ f64        │\n",
       "╞═════════════════════════════════╪═════════════════════╪═══════════╪════════════╡\n",
       "│ ./photos/PXL_20241015_02082151… ┆ 2024-10-14 22:08:21 ┆ 40.73645  ┆ -73.986819 │\n",
       "│ ./photos/PXL_20240930_14080630… ┆ 2024-09-30 10:08:06 ┆ 40.712542 ┆ -73.993772 │\n",
       "│ ./photos/PXL_20241014_22103181… ┆ 2024-10-14 18:10:31 ┆ 40.753172 ┆ -73.978617 │\n",
       "│ ./photos/PXL_20241016_06274948… ┆ 2024-10-16 01:27:49 ┆ 29.996244 ┆ -90.254758 │\n",
       "│ ./photos/PXL_20241017_15564377… ┆ 2024-10-17 10:56:43 ┆ 29.960689 ┆ -90.057911 │\n",
       "└─────────────────────────────────┴─────────────────────┴───────────┴────────────┘"
      ]
     },
     "execution_count": 18,
     "metadata": {},
     "output_type": "execute_result"
    }
   ],
   "source": [
    "df = pl.DataFrame(metadata).with_columns(pl.col('timestamp').str.to_datetime('%Y:%m:%d %H:%M:%S')).filter(pl.col('latitude').is_not_null())\n",
    "df.head()"
   ]
  },
  {
   "cell_type": "code",
   "execution_count": null,
   "id": "fb24e5b4-206f-47f4-b6bc-e7588b6b3d0c",
   "metadata": {},
   "outputs": [],
   "source": []
  },
  {
   "cell_type": "code",
   "execution_count": null,
   "id": "0435fa9d-5808-48de-96f8-51a2717ee3a0",
   "metadata": {},
   "outputs": [],
   "source": []
  },
  {
   "cell_type": "code",
   "execution_count": 19,
   "id": "1eb94f17-f8dd-4c0f-8520-546b68afb8e9",
   "metadata": {},
   "outputs": [],
   "source": [
    "app = JupyterDash(__name__)\n",
    "\n",
    "fig = px.density_mapbox(\n",
    "    df.to_pandas(),\n",
    "    lat=\"latitude\",\n",
    "    lon=\"longitude\",\n",
    "    hover_data={\"timestamp\": True},\n",
    "    custom_data=[\"filename\"],\n",
    "    radius=10,\n",
    "    center={\"lat\": 40.73, \"lon\": -73.97},\n",
    "    mapbox_style=\"open-street-map\",\n",
    "    zoom=12,\n",
    ")\n",
    "\n",
    "fig.update_layout(margin={\"l\": 15, \"r\": 25, \"t\": 45, \"b\": 25}, coloraxis_showscale=False)\n",
    "fig.update_traces(hovertemplate=\"%{customdata[1]}\")\n",
    "\n",
    "event_listener_js = {\n",
    "    \"event\": \"click\",                 # Listen for click events\n",
    "    \"props\": [\"clientX\", \"clientY\"],  # Capture the click's position on the screen\n",
    "}\n",
    "\n",
    "app.layout = html.Div([\n",
    "    EventListener(\n",
    "        dcc.Graph(id=\"figure\", figure=fig, style={\"height\": \"100vh\", \"width\": \"100vw\"}),\n",
    "        events=[event_listener_js],\n",
    "        id=\"figure-clicks\",\n",
    "    ),\n",
    "    html.Img(id=\"hover-image\"),\n",
    "    EventListener(\n",
    "        html.Img(id=\"click-image\", style={\"display\": \"block\"}),\n",
    "        events=[event_listener_js],\n",
    "        id=\"click-image-clicks\",\n",
    "    ),\n",
    "    dcc.Store(id=\"click-image-visible\", data=False)\n",
    "])"
   ]
  },
  {
   "cell_type": "code",
   "execution_count": 20,
   "id": "0898014e-1200-4fee-967b-aef37a59673e",
   "metadata": {},
   "outputs": [],
   "source": [
    "hover_image_style = {\n",
    "    \"position\": \"absolute\",\n",
    "    \"top\": \"82px\",\n",
    "    \"right\": \"50px\",\n",
    "    \"width\": \"200px\",\n",
    "    \"zIndex\": \"10\",\n",
    "    \"border\": \"1px solid black\",\n",
    "    \"display\": \"block\",\n",
    "}\n",
    "\n",
    "\n",
    "@app.callback(\n",
    "    Output(\"hover-image\", \"src\"),        # first output from the below function to hover-image (see app.layout)\n",
    "    Output(\"hover-image\", \"style\"),      # second output from the below function to hover-image (see app.layout)\n",
    "\n",
    "    Input(\"figure\", \"hoverData\"),  # input from the scatter-plot (see app.layout) to the below function\n",
    "    Input(\"click-image-visible\", \"data\")\n",
    ")\n",
    "def display_hover_image(hoverData, click_image_visible):\n",
    "    if hoverData and not click_image_visible:\n",
    "        image_url = hoverData[\"points\"][0][\"customdata\"][0]\n",
    "        return encode_image(image_url), hover_image_style\n",
    "    return \"\", {\"display\": \"none\"}\n",
    "\n",
    "\n",
    "click_image_style = {\n",
    "    \"position\": \"absolute\",\n",
    "    \"top\": \"50%\",\n",
    "    \"left\": \"50%\",\n",
    "    \"transform\": \"translate(-50%, -50%)\",\n",
    "    \"width\": \"600px\",\n",
    "    \"zIndex\": \"10\",\n",
    "    \"border\": \"1px solid black\",\n",
    "    \"display\": \"block\",\n",
    "}\n",
    "\n",
    "\n",
    "@app.callback(\n",
    "    Output(\"click-image\", \"src\"),\n",
    "    Output(\"click-image\", \"style\"),\n",
    "    Output(\"figure\", \"clickData\"),\n",
    "    Output(\"click-image-visible\", \"data\"),\n",
    "\n",
    "    Input(\"figure\", \"clickData\"),\n",
    "    Input(\"figure-clicks\", \"event\"),\n",
    "    Input(\"click-image-clicks\", \"event\"),\n",
    ")\n",
    "def toggle_click_image(clickData, figure_clicks, click_image_clicks):\n",
    "    if (figure_clicks or click_image_clicks) and not clickData:\n",
    "        return \"\", {\"display\": \"none\"}, None, False\n",
    "\n",
    "    if clickData:\n",
    "        image_url = clickData[\"points\"][0][\"customdata\"][0]\n",
    "        return encode_image(image_url), click_image_style, None, True\n",
    "\n",
    "    return \"\", {\"display\": \"none\"}, None, False"
   ]
  },
  {
   "cell_type": "code",
   "execution_count": 21,
   "id": "a5dbc9d3-3c72-488f-8bc5-f6f67a13d310",
   "metadata": {},
   "outputs": [
    {
     "name": "stdout",
     "output_type": "stream",
     "text": [
      "Dash is running on http://127.0.0.1:8050/\n",
      "\n",
      "Dash app running on http://127.0.0.1:8050/\n",
      "Dash is running on http://127.0.0.1:8050/\n",
      "\n",
      "Dash app running on http://127.0.0.1:8050/\n"
     ]
    }
   ],
   "source": [
    "webbrowser.open('http://127.0.0.1:8050/')\n",
    "app.run_server(port=8050, debug=True, use_reloader=False)\n",
    "time.sleep(5)\n",
    "app.run_server(port=8050, debug=True, use_reloader=False)"
   ]
  },
  {
   "cell_type": "code",
   "execution_count": null,
   "id": "ef324274-128f-4c42-a7bc-b654fa00d6b6",
   "metadata": {},
   "outputs": [],
   "source": []
  }
 ],
 "metadata": {
  "kernelspec": {
   "display_name": "photos-mapper",
   "language": "python",
   "name": "photos-mapper"
  },
  "language_info": {
   "codemirror_mode": {
    "name": "ipython",
    "version": 3
   },
   "file_extension": ".py",
   "mimetype": "text/x-python",
   "name": "python",
   "nbconvert_exporter": "python",
   "pygments_lexer": "ipython3",
   "version": "3.11.9"
  }
 },
 "nbformat": 4,
 "nbformat_minor": 5
}
